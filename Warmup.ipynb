{
 "cells": [
  {
   "cell_type": "markdown",
   "id": "a2c417ac-7b22-4e82-95dd-4fadb01fd24b",
   "metadata": {},
   "source": [
    "1. Vi börjar med det lättaste! dvs. ladda och visa en bild! :)"
   ]
  },
  {
   "cell_type": "code",
   "execution_count": 2,
   "id": "025d8daa-39a7-45c1-95cd-f9641c4ef651",
   "metadata": {},
   "outputs": [
    {
     "name": "stdout",
     "output_type": "stream",
     "text": [
      "(1800, 4000, 3)\n"
     ]
    }
   ],
   "source": [
    "import cv2\n",
    "image = cv2.imread('bjobild.jpg')\n",
    "print(image.shape)\n",
    "cv2.imshow('Bildtest', image)\n",
    "cv2.waitKey(0)\n",
    "cv2.destroyAllWindows()"
   ]
  },
  {
   "cell_type": "markdown",
   "id": "4ebaf45d-00c3-42ad-9427-d707391120da",
   "metadata": {},
   "source": [
    "2. Skapa en funktion som förstorar/förminskar bilden relativt mot ursprungsbredden och höjden"
   ]
  },
  {
   "cell_type": "code",
   "execution_count": 7,
   "id": "488de56f-9322-48d2-9d91-5886f57f18cd",
   "metadata": {},
   "outputs": [],
   "source": [
    "import cv2\n",
    "image = cv2.imread('bjobild.jpg')\n",
    "\n",
    "#scale factor är 20% av den ursprungliga storleken\n",
    "scale_factor = 0.2\n",
    "\n",
    "# Beräkna den nya storleken\n",
    "new_width = int(image.shape[1] * scale_factor)\n",
    "new_height = int(image.shape[0] * scale_factor)\n",
    "new_size = (new_width, new_height)\n",
    "\n",
    "# Ändra storleken på bilden\n",
    "zoomed_image = cv2.resize(image, new_size, interpolation=cv2.INTER_LINEAR)\n",
    "\n",
    "cv2.imshow('Bildtest', blurred_image)\n",
    "cv2.waitKey(0)\n",
    "cv2.destroyAllWindows()"
   ]
  },
  {
   "cell_type": "markdown",
   "id": "e155393e-b032-4966-ad30-2621d88f79a8",
   "metadata": {},
   "source": [
    "3. Tillämpa ett smoothing filter för att \"utjämna\"/ta bort brus från den nerkrympta bilden"
   ]
  },
  {
   "cell_type": "code",
   "execution_count": null,
   "id": "ef9d7ba3-8248-4d82-a5ec-9a76bb211bda",
   "metadata": {},
   "outputs": [],
   "source": [
    "import cv2\n",
    "image = cv2.imread('bjobild.jpg')\n",
    "\n",
    "#scale factor är 20% av den ursprungliga storlken\n",
    "scale_factor = 0.2\n",
    "\n",
    "# Beräkna den nya storleken\n",
    "new_width = int(image.shape[1] * scale_factor)\n",
    "new_height = int(image.shape[0] * scale_factor)\n",
    "new_size = (new_width, new_height)\n",
    "\n",
    "# Ändra storleken på bilden\n",
    "zoomed_image = cv2.resize(image, new_size, interpolation=cv2.INTER_LINEAR)\n",
    "blurred_image = cv2.GaussianBlur(zoomed_image, (5, 5), 0)\n",
    "\n",
    "cv2.imshow('Bildtest', blurred_image)\n",
    "cv2.waitKey(0)\n",
    "cv2.destroyAllWindows()"
   ]
  },
  {
   "cell_type": "markdown",
   "id": "62161449",
   "metadata": {},
   "source": [
    "4. Konvertera en färgbild till gråskala"
   ]
  },
  {
   "cell_type": "code",
   "execution_count": 5,
   "id": "016855fb",
   "metadata": {},
   "outputs": [
    {
     "name": "stdout",
     "output_type": "stream",
     "text": [
      "(1800, 4000)\n"
     ]
    }
   ],
   "source": [
    "import cv2\n",
    "image = cv2.imread('bjobild.jpg')\n",
    "img_gray = cv2.cvtColor(image, cv2.COLOR_BGR2GRAY)\n",
    "\n",
    "#ALTERNATIVT KAN MAN ÄVEN DIREKT LÄSA IN EN GRÅSKALIG BILD\n",
    "#img_gray = cv2.cvtColor(cv2.COLOR_BGR2GRAY, 0)\n",
    "\n",
    "scale_factor = 0.2\n",
    "\n",
    "# Beräkna den nya storleken\n",
    "new_width = int(image.shape[1] * scale_factor)\n",
    "new_height = int(image.shape[0] * scale_factor)\n",
    "new_size = (new_width, new_height)\n",
    "\n",
    "# Ändra storleken på bilden\n",
    "zoomed_image = cv2.resize(img_gray, new_size, interpolation=cv2.INTER_LINEAR)\n",
    "\n",
    "print(img_gray.shape)\n",
    "cv2.imshow('Bildtest', zoomed_image)\n",
    "cv2.waitKey(0)\n",
    "cv2.destroyAllWindows()"
   ]
  },
  {
   "cell_type": "code",
   "execution_count": null,
   "id": "9aa89f1b",
   "metadata": {},
   "outputs": [],
   "source": []
  }
 ],
 "metadata": {
  "kernelspec": {
   "display_name": "cv2",
   "language": "python",
   "name": "python3"
  },
  "language_info": {
   "codemirror_mode": {
    "name": "ipython",
    "version": 3
   },
   "file_extension": ".py",
   "mimetype": "text/x-python",
   "name": "python",
   "nbconvert_exporter": "python",
   "pygments_lexer": "ipython3",
   "version": "3.13.1"
  }
 },
 "nbformat": 4,
 "nbformat_minor": 5
}
