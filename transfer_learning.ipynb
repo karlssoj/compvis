{
  "cells": [
    {
      "cell_type": "markdown",
      "metadata": {
        "id": "view-in-github",
        "colab_type": "text"
      },
      "source": [
        "<a href=\"https://colab.research.google.com/github/karlssoj/compvis/blob/Exempel4_cats_dogs_classification_transfer_learning/transfer_learning.ipynb\" target=\"_parent\"><img src=\"https://colab.research.google.com/assets/colab-badge.svg\" alt=\"Open In Colab\"/></a>"
      ]
    },
    {
      "cell_type": "markdown",
      "id": "c4d6814a-fc4b-4f53-bc6f-098c29d7c050",
      "metadata": {
        "id": "c4d6814a-fc4b-4f53-bc6f-098c29d7c050"
      },
      "source": [
        "<h1> Att träna in en egen klassificeringsmodell, som klassificerar hund och katt, med EfficientNetB0 och överföringsinlärning </h1>"
      ]
    },
    {
      "cell_type": "markdown",
      "source": [
        "**Laddar ner cats & dogs dataset**"
      ],
      "metadata": {
        "id": "i-dtR0jPB6zq"
      },
      "id": "i-dtR0jPB6zq"
    },
    {
      "cell_type": "code",
      "source": [
        "!wget  https://download.microsoft.com/download/3/E/1/3E1C3F21-ECDB-4869-8368-6DEBA77B919F/kagglecatsanddogs_5340.zip"
      ],
      "metadata": {
        "id": "5k8L6aiYAV-F"
      },
      "id": "5k8L6aiYAV-F",
      "execution_count": null,
      "outputs": []
    },
    {
      "cell_type": "markdown",
      "source": [
        "**Packar upp ZIP-filen**"
      ],
      "metadata": {
        "id": "4VwX9BwZipXM"
      },
      "id": "4VwX9BwZipXM"
    },
    {
      "cell_type": "code",
      "source": [
        "!unzip kagglecatsanddogs_5340.zip"
      ],
      "metadata": {
        "id": "hT1A3ZZiivXS"
      },
      "id": "hT1A3ZZiivXS",
      "execution_count": null,
      "outputs": []
    },
    {
      "cell_type": "markdown",
      "source": [
        "**Tar bort de \"korrupta\" bildfilerna**"
      ],
      "metadata": {
        "id": "Lvl4jTifjBBA"
      },
      "id": "Lvl4jTifjBBA"
    },
    {
      "cell_type": "code",
      "source": [
        "!rm /content/PetImages/Cat/666.jpg\n",
        "!rm /content/PetImages/Dog/11702.jpg"
      ],
      "metadata": {
        "id": "Eg7-OUENjHFz"
      },
      "id": "Eg7-OUENjHFz",
      "execution_count": 3,
      "outputs": []
    },
    {
      "cell_type": "markdown",
      "source": [
        "**Delar upp datasetet i test-, validerings- och träningsbilder**\n",
        "\n",
        "TESTBILDERNA används under själva inträningen för att träna modellen\n",
        "\n",
        "VALIDERINGSBILDERNA används vid slutet av varje epoch (efter varje gång träningen gått igenom alla bilder en gång) för att utvärdera prestandan (genom att beräkna loss och accuracy)\n",
        "\n",
        "TESTBILDERNA används efter avslutad inträning för att evaluera hur väl bildklassificeringsmodellen presterar på okänt data (testbilderna används inte under träningen)\n",
        "\n",
        "\n",
        "\n"
      ],
      "metadata": {
        "id": "t0aNb-eJHXmV"
      },
      "id": "t0aNb-eJHXmV"
    },
    {
      "cell_type": "code",
      "source": [
        "!pip install split-folders"
      ],
      "metadata": {
        "id": "Rmkw6MCaCZib"
      },
      "id": "Rmkw6MCaCZib",
      "execution_count": null,
      "outputs": []
    },
    {
      "cell_type": "code",
      "source": [
        "import splitfolders\n",
        "\n",
        "# Path to original dataset\n",
        "input_folder = \"/content/PetImages\"  # The folder containing \"Cat\" and \"Dog\" subfolders\n",
        "\n",
        "# Split into train (80%), validation (10%), and test (10%)\n",
        "splitfolders.ratio(input_folder, output=\"PetImages_Split\", seed=42, ratio=(0.8, 0.1, 0.1), group_prefix=None)"
      ],
      "metadata": {
        "id": "6WI9IMBX9e21",
        "colab": {
          "base_uri": "https://localhost:8080/"
        },
        "outputId": "8a1f70cb-98ff-4f83-b1ed-e475b8c2fb88"
      },
      "id": "6WI9IMBX9e21",
      "execution_count": 7,
      "outputs": [
        {
          "output_type": "stream",
          "name": "stderr",
          "text": [
            "Copying files: 25000 files [00:08, 3062.12 files/s]\n"
          ]
        }
      ]
    },
    {
      "cell_type": "markdown",
      "source": [
        "**Skapar ett ImageDataGenerator-objekt för att hantera träningsdatasetet och som bl.a. definierar hur bilderna ska pre-processeras och normaliseras. I detta fall använder vi EfficientNet som kräver en viss typ av pre-processering och normalisering (därav preprocessing_function = preprocess_input)**"
      ],
      "metadata": {
        "id": "jFE21fG2LFka"
      },
      "id": "jFE21fG2LFka"
    },
    {
      "cell_type": "code",
      "execution_count": 8,
      "id": "novel-recruitment",
      "metadata": {
        "id": "novel-recruitment"
      },
      "outputs": [],
      "source": [
        "from tensorflow.keras.preprocessing.image import ImageDataGenerator\n",
        "from tensorflow.keras.applications.efficientnet import preprocess_input\n",
        "image_gen = ImageDataGenerator(preprocessing_function=preprocess_input)"
      ]
    },
    {
      "cell_type": "markdown",
      "id": "occasional-prisoner",
      "metadata": {
        "id": "occasional-prisoner"
      },
      "source": [
        "**Definierar bl.a. varifrån tränings-, validerings- och testbilderna ska laddas in**"
      ]
    },
    {
      "cell_type": "code",
      "execution_count": null,
      "id": "straight-cheese",
      "metadata": {
        "id": "straight-cheese"
      },
      "outputs": [],
      "source": [
        "train_image_gen = image_gen.flow_from_directory(\n",
        "    \"/content/PetImages_Split/train\",\n",
        "    target_size=(224, 224),#EfficienNet kräver juse denna upplösning\n",
        "    batch_size=32,#Hur många bilder som ska matas per gång\n",
        "    class_mode=\"binary\",\n",
        "    shuffle=True\n",
        ")\n",
        "\n",
        "validation_image_gen = image_gen.flow_from_directory(\n",
        "    \"/content/PetImages_Split/val\",\n",
        "    target_size=(224, 224),\n",
        "    batch_size=32,\n",
        "    class_mode=\"binary\"\n",
        ")\n",
        "\n",
        "test_image_gen = image_gen.flow_from_directory(\n",
        "    \"/content/PetImages_Split/test\",\n",
        "    target_size=(224, 224),\n",
        "    batch_size=32,\n",
        "    class_mode=\"binary\",\n",
        "    shuffle=False\n",
        ")"
      ]
    },
    {
      "cell_type": "markdown",
      "source": [
        "**Sätter upp CNN-nätet för träning. Vi använder oss av den förintränade EfficientNetB0-modellen. Vi \"fryser\" alla faltningslager, dvs. vi vill inte träna in på nytt olika lösryckte egenskaper utan vi återanvänder samma egenskaper som tränats på ImageNet datasetet. Det ända vi vill träna är klassificeringslagret, dvs. hur de olika lösryckte egenskaperna ska kombineras för att det ska känneteckna en hund eller katt**"
      ],
      "metadata": {
        "id": "RR14Q16sMKXk"
      },
      "id": "RR14Q16sMKXk"
    },
    {
      "cell_type": "code",
      "execution_count": null,
      "id": "funded-maker",
      "metadata": {
        "id": "funded-maker"
      },
      "outputs": [],
      "source": [
        "import tensorflow as tf\n",
        "from tensorflow import keras\n",
        "from tensorflow.keras.models import Model\n",
        "from tensorflow.keras.layers import Dense, GlobalAveragePooling2D, Dropout\n",
        "from tensorflow.keras.preprocessing.image import ImageDataGenerator\n",
        "import numpy as np\n",
        "import matplotlib.pyplot as plt\n",
        "\n",
        "base_model = tf.keras.applications.EfficientNetB0(\n",
        "    include_top=False,\n",
        "    weights=\"imagenet\",\n",
        "    input_shape=(224, 224, 3)\n",
        ")\n",
        "\n",
        "# Frys basmodellen så att dess vikter inte förändras under träningen\n",
        "base_model.trainable = False\n",
        "\n",
        "x = base_model.output\n",
        "x = GlobalAveragePooling2D()(x)\n",
        "x = Dense(256, activation=\"relu\")(x)\n",
        "x = Dropout(0.5)(x)  # För att minska överanpassning\n",
        "\n",
        "#Output är i detta fall enbart en neuron, dvs. vad är sannolikheten för att bilden\n",
        "#innehåller en hund. 1=hund, 0=katt\n",
        "output_layer = Dense(1, activation=\"sigmoid\")(x)  # Binary classification\n",
        "model = Model(inputs=base_model.input, outputs=output_layer)"
      ]
    },
    {
      "cell_type": "markdown",
      "id": "experimental-violation",
      "metadata": {
        "id": "experimental-violation"
      },
      "source": [
        "<b> \"Kompilerar\" modellen. Optimizer är den metod man vill använda för att optimera alla vikter i nätet. Adam är en variant av gradient descent. Loss definierar \"loss function\", dvs. vad man vill använda för metod för att beräkna feluppskattningen under inträningen."
      ]
    },
    {
      "cell_type": "code",
      "execution_count": 13,
      "id": "charged-marketplace",
      "metadata": {
        "id": "charged-marketplace"
      },
      "outputs": [],
      "source": [
        "model.compile(\n",
        "    optimizer=keras.optimizers.Adam(learning_rate=0.001),\n",
        "    loss=\"binary_crossentropy\",  # Correct loss function for 2-class problem\n",
        "    metrics=[\"accuracy\"]\n",
        ")"
      ]
    },
    {
      "cell_type": "code",
      "execution_count": null,
      "id": "modified-insured",
      "metadata": {
        "id": "modified-insured"
      },
      "outputs": [],
      "source": [
        "model.summary()"
      ]
    },
    {
      "cell_type": "markdown",
      "id": "african-award",
      "metadata": {
        "id": "african-award"
      },
      "source": [
        "<b> Startar själva inträningen på testdataset:et. Epochs definierar hur många ggr inlärningsalgoritmen kommer att gå igenom hela dataset:et.Här definierar vi även pathen till valideringsdatasetet så att modellen ska kunna utvärderas på okända bilder efter varje epoch"
      ]
    },
    {
      "cell_type": "code",
      "execution_count": null,
      "id": "collaborative-court",
      "metadata": {
        "tags": [],
        "id": "collaborative-court"
      },
      "outputs": [],
      "source": [
        "# Train the model with validation\n",
        "results = model.fit(\n",
        "    train_image_gen,\n",
        "    validation_data=validation_image_gen,\n",
        "    epochs=10\n",
        ")"
      ]
    },
    {
      "cell_type": "code",
      "execution_count": null,
      "id": "amateur-reynolds",
      "metadata": {
        "id": "amateur-reynolds"
      },
      "outputs": [],
      "source": [
        "plt.plot(results.history['accuracy'])"
      ]
    },
    {
      "cell_type": "markdown",
      "id": "39c94ebb-3aae-4007-9105-36379e7f942f",
      "metadata": {
        "id": "39c94ebb-3aae-4007-9105-36379e7f942f"
      },
      "source": [
        "<b> Vi evaluerar hur väl den intränade klassificeringsmodellen presterar mot test-datasetet, dvs. vi testar den intränade modellen på data den inte sett tidigare"
      ]
    },
    {
      "cell_type": "code",
      "execution_count": null,
      "id": "bulgarian-option",
      "metadata": {
        "id": "bulgarian-option"
      },
      "outputs": [],
      "source": [
        "# Evaluate on test data\n",
        "test_loss, test_acc = model.evaluate(test_image_gen)\n",
        "print(f\"Test Accuracy: {test_acc:.4f}\")"
      ]
    }
  ],
  "metadata": {
    "kernelspec": {
      "display_name": "Python 3",
      "name": "python3"
    },
    "language_info": {
      "codemirror_mode": {
        "name": "ipython",
        "version": 3
      },
      "file_extension": ".py",
      "mimetype": "text/x-python",
      "name": "python",
      "nbconvert_exporter": "python",
      "pygments_lexer": "ipython3",
      "version": "3.12.1"
    },
    "colab": {
      "provenance": [],
      "gpuType": "T4",
      "include_colab_link": true
    },
    "accelerator": "GPU"
  },
  "nbformat": 4,
  "nbformat_minor": 5
}