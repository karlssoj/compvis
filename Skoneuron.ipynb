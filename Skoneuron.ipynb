{
  "nbformat": 4,
  "nbformat_minor": 0,
  "metadata": {
    "colab": {
      "provenance": []
    },
    "kernelspec": {
      "name": "python3",
      "display_name": "Python 3"
    },
    "language_info": {
      "name": "python"
    }
  },
  "cells": [
    {
      "cell_type": "markdown",
      "source": [
        "**1. Skapar och förbereder data**"
      ],
      "metadata": {
        "id": "UKC-hPB72DRp"
      }
    },
    {
      "cell_type": "code",
      "source": [
        "import numpy as np\n",
        "import tensorflow as tf\n",
        "from tensorflow import keras\n",
        "from sklearn.model_selection import train_test_split\n",
        "import matplotlib.pyplot as plt\n",
        "\n",
        "from sklearn.preprocessing import StandardScaler\n",
        "\n",
        "# Skapa syntetiska data (Längd i cm, Skostorlek i EU-storlek, Kön: 0 = kvinna, 1 = man)\n",
        "data = np.array([\n",
        "    [160, 37, 0], [165, 38, 0], [170, 39, 0], [175, 40, 0], [180, 41, 0],\n",
        "    [185, 42, 1], [190, 44, 1], [195, 47, 1], [200, 48, 1], [205, 48, 1]])\n",
        "\n",
        "X = data[:, :2]  # Funktioner: längd och skostorlek\n",
        "y = data[:, 2]   # Målvariabel: kön (0 eller 1)\n",
        "print(\"Längd och skostorlek:\\n\", X)\n",
        "print(\"Kön: \", y)\n",
        "\n",
        "# Dela upp data i tränings- och testdata\n",
        "X_train, X_test, y_train, y_test = train_test_split(X, y, test_size=0.2, random_state=42)\n",
        "\n",
        "print(\"träningsdata: \", X_train)\n",
        "print(\"testdata: \", X_test)\n"
      ],
      "metadata": {
        "colab": {
          "base_uri": "https://localhost:8080/"
        },
        "id": "9YFI6GIh0W1S",
        "outputId": "013e297c-59c2-4230-ab78-5de46bec41d9"
      },
      "execution_count": 14,
      "outputs": [
        {
          "output_type": "stream",
          "name": "stdout",
          "text": [
            "Längd och skostorlek:\n",
            " [[160  37]\n",
            " [165  38]\n",
            " [170  39]\n",
            " [175  40]\n",
            " [180  41]\n",
            " [185  42]\n",
            " [190  44]\n",
            " [195  47]\n",
            " [200  48]\n",
            " [205  48]]\n",
            "Kön:  [0 0 0 0 0 1 1 1 1 1]\n",
            "träningsdata:  [[185  42]\n",
            " [160  37]\n",
            " [195  47]\n",
            " [170  39]\n",
            " [205  48]\n",
            " [180  41]\n",
            " [175  40]\n",
            " [190  44]]\n",
            "testdata:  [[200  48]\n",
            " [165  38]]\n"
          ]
        }
      ]
    },
    {
      "cell_type": "markdown",
      "source": [
        "**2. Normaliserar datat**"
      ],
      "metadata": {
        "id": "F43o8mnV2N2T"
      }
    },
    {
      "cell_type": "code",
      "source": [
        "# Normalisera datat\n",
        "scaler = StandardScaler()\n",
        "X_train = scaler.fit_transform(X_train)\n",
        "X_test = scaler.transform(X_test)\n",
        "\n",
        "print(\"träningsdata efter normalisering: \", X_train)\n",
        "print(\"testdata efter normalisering: \", X_test)"
      ],
      "metadata": {
        "colab": {
          "base_uri": "https://localhost:8080/"
        },
        "id": "MG7bnz381qFy",
        "outputId": "5d6dc677-af7e-453f-ebd2-354b443344a0"
      },
      "execution_count": 15,
      "outputs": [
        {
          "output_type": "stream",
          "name": "stdout",
          "text": [
            "träningsdata efter normalisering:  [[ 0.18569534 -0.0695048 ]\n",
            " [-1.67125804 -1.4596009 ]\n",
            " [ 0.92847669  1.32059129]\n",
            " [-0.92847669 -0.90356246]\n",
            " [ 1.67125804  1.59861051]\n",
            " [-0.18569534 -0.34752402]\n",
            " [-0.55708601 -0.62554324]\n",
            " [ 0.55708601  0.48653363]]\n",
            "testdata efter normalisering:  [[ 1.29986737  1.59861051]\n",
            " [-1.29986737 -1.18158168]]\n"
          ]
        }
      ]
    },
    {
      "cell_type": "markdown",
      "source": [
        "**3. Bygger upp och skapar neuronnätet**"
      ],
      "metadata": {
        "id": "Jk8tHOzM2TCy"
      }
    },
    {
      "cell_type": "code",
      "execution_count": 16,
      "metadata": {
        "colab": {
          "base_uri": "https://localhost:8080/"
        },
        "id": "p5jOy2RC0mAt",
        "outputId": "9e030ff8-64bd-45cf-b51d-17098cdc8ec2"
      },
      "outputs": [
        {
          "output_type": "stream",
          "name": "stderr",
          "text": [
            "/usr/local/lib/python3.11/dist-packages/keras/src/layers/core/dense.py:87: UserWarning: Do not pass an `input_shape`/`input_dim` argument to a layer. When using Sequential models, prefer using an `Input(shape)` object as the first layer in the model instead.\n",
            "  super().__init__(activity_regularizer=activity_regularizer, **kwargs)\n"
          ]
        }
      ],
      "source": [
        "# Bygg ett neuronnät\n",
        "model = keras.Sequential([\n",
        "    keras.layers.Dense(2, activation='relu', input_shape=(2,)),  # 2 neuroner i första lagret\n",
        "    keras.layers.Dense(1, activation='sigmoid')  # 1 utgångsneuron med sigmoid-aktivering\n",
        "])\n",
        "\n",
        "# Kompilera modellen\n",
        "model.compile(optimizer='adam', loss='binary_crossentropy', metrics=['accuracy'])"
      ]
    },
    {
      "cell_type": "markdown",
      "source": [
        "**4. Träna modellen och granska nogrannheten**"
      ],
      "metadata": {
        "id": "k2SGYOOs27Wn"
      }
    },
    {
      "cell_type": "code",
      "source": [
        "# Träna modellen\n",
        "history = model.fit(X_train, y_train, epochs=200, batch_size=2, verbose=0)\n",
        "\n",
        "# Utvärdera modellen\n",
        "loss, accuracy = model.evaluate(X_test, y_test, verbose=0)\n",
        "print(f\"Testnoggrannhet: {accuracy:.2f}\")\n",
        "\n",
        "plt.plot(history.history['accuracy'])\n",
        "plt.title('Träningsnoggrannhet')\n",
        "plt.xlabel('Epochs')\n",
        "plt.ylabel('Nogrannhet')\n",
        "plt.show()\n",
        "\n",
        "plt.plot(history.history['loss'])\n",
        "plt.title('Träningsförlust')\n",
        "plt.xlabel('Epochs')\n",
        "plt.ylabel('Förlust')\n",
        "plt.show()"
      ],
      "metadata": {
        "colab": {
          "base_uri": "https://localhost:8080/",
          "height": 945
        },
        "id": "cwoYxfLW11cQ",
        "outputId": "2e14b67c-bf88-4b1c-f9f8-88384d4b902a"
      },
      "execution_count": 17,
      "outputs": [
        {
          "output_type": "stream",
          "name": "stdout",
          "text": [
            "Testnoggrannhet: 1.00\n"
          ]
        },
        {
          "output_type": "display_data",
          "data": {
            "text/plain": [
              "<Figure size 640x480 with 1 Axes>"
            ],
            "image/png": "[encoded data removed]"
          },
          "metadata": {}
        },
        {
          "output_type": "display_data",
          "data": {
            "text/plain": [
              "<Figure size 640x480 with 1 Axes>"
            ],
            "image/png": "[encoded data removed]"
          },
          "metadata": {}
        }
      ]
    },
    {
      "cell_type": "markdown",
      "source": [
        "**5. Vi använder oss av modellen för att uppskatta kön**"
      ],
      "metadata": {
        "id": "O-N-T_ic3-dq"
      }
    },
    {
      "cell_type": "code",
      "source": [
        "ny_person = np.array([[194, 48]])  # Längd: 160 cm, Skostorlek: 36\n",
        "ny_person = scaler.transform(ny_person)  # Viktigt att skala testexempel också!\n",
        "prediktion = model.predict(ny_person)\n",
        "print(f\"Sannolikhet att det är en man: {prediktion[0][0]:.4f}\")"
      ],
      "metadata": {
        "colab": {
          "base_uri": "https://localhost:8080/"
        },
        "id": "IQnXjtTw0hAG",
        "outputId": "afe49118-2a27-44ea-d898-29c1e6f9d750"
      },
      "execution_count": 20,
      "outputs": [
        {
          "output_type": "stream",
          "name": "stdout",
          "text": [
            "\u001b[1m1/1\u001b[0m \u001b[32m━━━━━━━━━━━━━━━━━━━━\u001b[0m\u001b[37m\u001b[0m \u001b[1m0s\u001b[0m 65ms/step\n",
            "Sannolikhet att det är en man: 0.9076\n"
          ]
        }
      ]
    },
    {
      "cell_type": "markdown",
      "source": [
        "**6. Av testsyfte: Vi kollar de tränade vikterna och bias**"
      ],
      "metadata": {
        "id": "yev6ifvs3Or9"
      }
    },
    {
      "cell_type": "code",
      "source": [
        "for i, layer in enumerate(model.layers):\n",
        "    weights, biases = layer.get_weights()\n",
        "    print(f\"--- Lager {i+1} ---\")\n",
        "    print(\"Vikter:\\n\", weights)\n",
        "    print(\"Bias:\\n\", biases)"
      ],
      "metadata": {
        "id": "e2WODPm-VV55",
        "outputId": "bbde6822-8e89-4e37-9fed-5ba5052a0898",
        "colab": {
          "base_uri": "https://localhost:8080/"
        }
      },
      "execution_count": 12,
      "outputs": [
        {
          "output_type": "stream",
          "name": "stdout",
          "text": [
            "--- Lager 1 ---\n",
            "Vikter:\n",
            " [[1.6553906 1.6198232]\n",
            " [1.2881887 0.2569134]]\n",
            "Bias:\n",
            " [0.41453546 0.38985774]\n",
            "--- Lager 2 ---\n",
            "Vikter:\n",
            " [[1.5656949]\n",
            " [1.136088 ]]\n",
            "Bias:\n",
            " [-0.5062938]\n"
          ]
        }
      ]
    },
    {
      "cell_type": "code",
      "source": [],
      "metadata": {
        "id": "8FQeGfOf4j50"
      },
      "execution_count": null,
      "outputs": []
    }
  ]
}